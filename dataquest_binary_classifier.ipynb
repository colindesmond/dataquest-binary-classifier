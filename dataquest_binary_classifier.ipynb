{
 "cells": [
  {
   "cell_type": "markdown",
   "id": "07409ff7",
   "metadata": {},
   "source": [
    "# Dataquest Binary Classification Project\n",
    "Using data from LendingTree, the goal is to build a machine learning model that accurately predicts (TPR>0.5, FPR<0.07) if a borrower will pay off their loan on time."
   ]
  },
  {
   "cell_type": "code",
   "execution_count": 213,
   "id": "edc2cc28",
   "metadata": {},
   "outputs": [
    {
     "name": "stderr",
     "output_type": "stream",
     "text": [
      "C:\\Users\\colin\\AppData\\Local\\Temp\\ipykernel_8144\\440724700.py:10: DtypeWarning: Columns (0) have mixed types. Specify dtype option on import or set low_memory=False.\n",
      "  loans = pd.read_csv(\"loans_2007.csv\")\n"
     ]
    },
    {
     "name": "stdout",
     "output_type": "stream",
     "text": [
      "id                                1077501\n",
      "member_id                       1296599.0\n",
      "loan_amnt                          5000.0\n",
      "funded_amnt                        5000.0\n",
      "funded_amnt_inv                    4975.0\n",
      "term                            36 months\n",
      "int_rate                           10.65%\n",
      "installment                        162.87\n",
      "grade                                   B\n",
      "sub_grade                              B2\n",
      "emp_title                             NaN\n",
      "emp_length                      10+ years\n",
      "home_ownership                       RENT\n",
      "annual_inc                        24000.0\n",
      "verification_status              Verified\n",
      "issue_d                          Dec-2011\n",
      "loan_status                    Fully Paid\n",
      "pymnt_plan                              n\n",
      "purpose                       credit_card\n",
      "title                            Computer\n",
      "zip_code                            860xx\n",
      "addr_state                             AZ\n",
      "dti                                 27.65\n",
      "delinq_2yrs                           0.0\n",
      "earliest_cr_line                 Jan-1985\n",
      "inq_last_6mths                        1.0\n",
      "open_acc                              3.0\n",
      "pub_rec                               0.0\n",
      "revol_bal                         13648.0\n",
      "revol_util                          83.7%\n",
      "total_acc                             9.0\n",
      "initial_list_status                     f\n",
      "out_prncp                             0.0\n",
      "out_prncp_inv                         0.0\n",
      "total_pymnt                   5863.155187\n",
      "total_pymnt_inv                   5833.84\n",
      "total_rec_prncp                    5000.0\n",
      "total_rec_int                      863.16\n",
      "total_rec_late_fee                    0.0\n",
      "recoveries                            0.0\n",
      "collection_recovery_fee               0.0\n",
      "last_pymnt_d                     Jan-2015\n",
      "last_pymnt_amnt                    171.62\n",
      "last_credit_pull_d               Dec-2016\n",
      "collections_12_mths_ex_med            0.0\n",
      "policy_code                           1.0\n",
      "application_type               INDIVIDUAL\n",
      "acc_now_delinq                        0.0\n",
      "chargeoff_within_12_mths              0.0\n",
      "delinq_amnt                           0.0\n",
      "pub_rec_bankruptcies                  0.0\n",
      "tax_liens                             0.0\n",
      "Name: 0, dtype: object\n"
     ]
    }
   ],
   "source": [
    "#import packages\n",
    "import pandas as pd\n",
    "import numpy as np\n",
    "from pprint import pprint\n",
    "import matplotlib.pyplot as plt\n",
    "%matplotlib inline\n",
    "plt.rcParams['figure.figsize'] = (5,3)\n",
    "\n",
    "#read in data, print first row\n",
    "loans = pd.read_csv(\"loans_2007.csv\")\n",
    "loans.drop_duplicates()\n",
    "print(loans.iloc[0])"
   ]
  },
  {
   "cell_type": "markdown",
   "id": "ce310e2e",
   "metadata": {},
   "source": [
    "## Part 1: Cleaning data\n",
    "\n",
    "Drop columns that contain redundant information, aren't useful for modeling, require too much processing to make useful, or leak information from the future."
   ]
  },
  {
   "cell_type": "code",
   "execution_count": 214,
   "id": "7359528a",
   "metadata": {},
   "outputs": [],
   "source": [
    "#grade collinear w/ int_rate\n",
    "drop_list1=[\"id\", \"member_id\", \"funded_amnt\", \"funded_amnt_inv\", \"grade\", \"sub_grade\", \"emp_title\", \"issue_d\"]\n",
    "drop_list2=[\"zip_code\", \"out_prncp\", \"out_prncp_inv\", \"total_pymnt\", \"total_pymnt_inv\", \"total_rec_prncp\"]\n",
    "drop_list3=[\"total_rec_int\", \"total_rec_late_fee\", \"recoveries\", \"collection_recovery_fee\", \"last_pymnt_d\", \"last_pymnt_amnt\"]\n",
    "drop_list4=['initial_list_status', 'collections_12_mths_ex_med', 'policy_code', 'application_type', 'acc_now_delinq', 'chargeoff_within_12_mths', 'delinq_amnt', 'tax_liens']\n",
    "columns_to_drop=drop_list1+drop_list2+drop_list3+drop_list4\n",
    "loans = loans.drop(columns_to_drop, axis=1)"
   ]
  },
  {
   "cell_type": "markdown",
   "id": "f520f8c5",
   "metadata": {},
   "source": [
    "Drop columns with only one value."
   ]
  },
  {
   "cell_type": "code",
   "execution_count": 215,
   "id": "495152e3",
   "metadata": {},
   "outputs": [
    {
     "name": "stdout",
     "output_type": "stream",
     "text": [
      "pymnt_plan\n"
     ]
    }
   ],
   "source": [
    "drop_columns = []\n",
    "for col in loans.columns:\n",
    "    if len(loans[col].dropna().unique()) == 1:\n",
    "        print(col)\n",
    "        loans=loans.drop(col, axis=1)"
   ]
  },
  {
   "cell_type": "markdown",
   "id": "ab6d381e",
   "metadata": {},
   "source": [
    "Our target column will be ```loan_status```. "
   ]
  },
  {
   "cell_type": "code",
   "execution_count": 216,
   "id": "eb5f63bc",
   "metadata": {},
   "outputs": [
    {
     "data": {
      "text/plain": [
       "Fully Paid                                             34085\n",
       "Charged Off                                             5662\n",
       "Does not meet the credit policy. Status:Fully Paid      1988\n",
       "Does not meet the credit policy. Status:Charged Off      761\n",
       "Current                                                   19\n",
       "Late (31-120 days)                                         9\n",
       "In Grace Period                                            8\n",
       "Late (16-30 days)                                          2\n",
       "Default                                                    1\n",
       "Name: loan_status, dtype: int64"
      ]
     },
     "execution_count": 216,
     "metadata": {},
     "output_type": "execute_result"
    }
   ],
   "source": [
    "loans['loan_status'].value_counts()"
   ]
  },
  {
   "cell_type": "markdown",
   "id": "84175d66",
   "metadata": {},
   "source": [
    "Only the Fully Paid and Charged Off values describe the final outcome of the loan. The other values describe loans that are still ongoing and where the jury is still out on if the borrower will pay back the loan on time or not. \n",
    "\n",
    "As such, we drop all other values and then make the variable binary where Fully Paid = 1 and Charged Off = 0. "
   ]
  },
  {
   "cell_type": "code",
   "execution_count": 217,
   "id": "589f1096",
   "metadata": {},
   "outputs": [
    {
     "data": {
      "text/plain": [
       "1    34085\n",
       "0     5662\n",
       "Name: loan_status, dtype: int64"
      ]
     },
     "execution_count": 217,
     "metadata": {},
     "output_type": "execute_result"
    }
   ],
   "source": [
    "loans = loans[(loans['loan_status'] == \"Fully Paid\") | (loans['loan_status'] == \"Charged Off\")]\n",
    "loans = loans.replace({\"loan_status\" : {\"Fully Paid\": 1, \"Charged Off\": 0}})\n",
    "loans['loan_status'].value_counts()"
   ]
  },
  {
   "cell_type": "markdown",
   "id": "04e72451",
   "metadata": {},
   "source": [
    "Before dropping missing data, let's take stock of our dimensions."
   ]
  },
  {
   "cell_type": "code",
   "execution_count": 218,
   "id": "720d559c",
   "metadata": {},
   "outputs": [
    {
     "data": {
      "text/plain": [
       "(39747, 23)"
      ]
     },
     "execution_count": 218,
     "metadata": {},
     "output_type": "execute_result"
    }
   ],
   "source": [
    "loans.shape"
   ]
  },
  {
   "cell_type": "markdown",
   "id": "8d8a5560",
   "metadata": {},
   "source": [
    "Now let's look at our null counts."
   ]
  },
  {
   "cell_type": "code",
   "execution_count": 219,
   "id": "3885f3bd",
   "metadata": {
    "scrolled": true
   },
   "outputs": [
    {
     "name": "stdout",
     "output_type": "stream",
     "text": [
      "emp_length              1076\n",
      "title                     11\n",
      "revol_util                50\n",
      "last_credit_pull_d         2\n",
      "pub_rec_bankruptcies     697\n",
      "dtype: int64\n"
     ]
    }
   ],
   "source": [
    "null_counts = loans.isnull().sum()\n",
    "print(null_counts[null_counts>0])"
   ]
  },
  {
   "cell_type": "markdown",
   "id": "8d554cef",
   "metadata": {},
   "source": [
    "```pub_rec_bankruptcies``` has low variation..."
   ]
  },
  {
   "cell_type": "code",
   "execution_count": 220,
   "id": "b4192481",
   "metadata": {},
   "outputs": [
    {
     "data": {
      "text/plain": [
       "0.0    37366\n",
       "1.0     1677\n",
       "2.0        7\n",
       "Name: pub_rec_bankruptcies, dtype: int64"
      ]
     },
     "execution_count": 220,
     "metadata": {},
     "output_type": "execute_result"
    }
   ],
   "source": [
    "loans.pub_rec_bankruptcies.value_counts()"
   ]
  },
  {
   "cell_type": "markdown",
   "id": "ccb9e2b9",
   "metadata": {},
   "source": [
    "... which makes it a poor choice for a feature, so we'll drop that column entirely. While ```emp_length``` has a lot of null counts, it could be important for our analysis so we'll keep it and just drop rows with missing values there. We'll do the same for the rest of the columns with missing values."
   ]
  },
  {
   "cell_type": "code",
   "execution_count": 221,
   "id": "34e70d51",
   "metadata": {},
   "outputs": [],
   "source": [
    "loans = loans.drop(\"pub_rec_bankruptcies\", axis=1)\n",
    "loans = loans.dropna(axis=0)"
   ]
  },
  {
   "cell_type": "markdown",
   "id": "33dd3d37",
   "metadata": {},
   "source": [
    "Let's now examine non-numeric data."
   ]
  },
  {
   "cell_type": "code",
   "execution_count": 222,
   "id": "f802a742",
   "metadata": {},
   "outputs": [
    {
     "name": "stdout",
     "output_type": "stream",
     "text": [
      "term                     36 months\n",
      "int_rate                    10.65%\n",
      "emp_length               10+ years\n",
      "home_ownership                RENT\n",
      "verification_status       Verified\n",
      "purpose                credit_card\n",
      "title                     Computer\n",
      "addr_state                      AZ\n",
      "earliest_cr_line          Jan-1985\n",
      "revol_util                   83.7%\n",
      "last_credit_pull_d        Dec-2016\n",
      "Name: 0, dtype: object\n"
     ]
    }
   ],
   "source": [
    "object_columns_df = loans.select_dtypes(include=[\"object\"])\n",
    "print(object_columns_df.iloc[0])"
   ]
  },
  {
   "cell_type": "markdown",
   "id": "72811bb9",
   "metadata": {},
   "source": [
    "Some of the columns seem like they represent categorical values, but we should confirm by checking the number of unique values in those columns:\n",
    "1. ```home_ownership```: home ownership status, can only be 1 of 4 categorical values according to the data dictionary,\n",
    "2. ```verification_status```: indicates if income was verified by Lending Club,\n",
    "3. ```emp_length```: number of years the borrower was employed upon time of application,\n",
    "4. ```term```: number of payments on the loan, either 36 or 60,\n",
    "5. ```addr_state```: borrower's state of residence,\n",
    "6. ```purpose```: a category provided by the borrower for the loan request,\n",
    "7. ```title```: loan title provided by the borrower."
   ]
  },
  {
   "cell_type": "code",
   "execution_count": 223,
   "id": "54fdd7b0",
   "metadata": {
    "scrolled": true
   },
   "outputs": [
    {
     "name": "stdout",
     "output_type": "stream",
     "text": [
      "--- home_ownership-----\n",
      "RENT        18451\n",
      "MORTGAGE    17226\n",
      "OWN          2836\n",
      "OTHER          96\n",
      "NONE            3\n",
      "\n",
      "\n",
      "--- verification_status-----\n",
      "Not Verified       16466\n",
      "Verified           12354\n",
      "Source Verified     9792\n",
      "\n",
      "\n",
      "--- emp_length-----\n",
      "10+ years    8886\n",
      "< 1 year     4573\n",
      "2 years      4387\n",
      "3 years      4090\n",
      "4 years      3429\n",
      "5 years      3279\n",
      "1 year       3236\n",
      "6 years      2224\n",
      "7 years      1770\n",
      "8 years      1480\n",
      "9 years      1258\n",
      "\n",
      "\n",
      "--- term-----\n",
      " 36 months    28234\n",
      " 60 months    10378\n",
      "\n",
      "\n",
      "--- addr_state-----\n",
      "CA    6903\n",
      "NY    3707\n",
      "FL    2776\n",
      "TX    2672\n",
      "NJ    1821\n",
      "IL    1486\n",
      "PA    1480\n",
      "VA    1377\n",
      "GA    1357\n",
      "MA    1312\n",
      "OH    1190\n",
      "MD    1033\n",
      "AZ     831\n",
      "WA     806\n",
      "CO     768\n",
      "\n",
      "\n",
      "--- purpose-----\n",
      "debt_consolidation    18239\n",
      "credit_card            4999\n",
      "other                  3821\n",
      "home_improvement       2883\n",
      "major_purchase         2108\n",
      "small_business         1779\n",
      "car                    1497\n",
      "wedding                 934\n",
      "medical                 668\n",
      "moving                  557\n",
      "house                   369\n",
      "vacation                351\n",
      "educational             312\n",
      "renewable_energy         95\n",
      "\n",
      "\n",
      "--- title-----\n",
      "Debt Consolidation           2145\n",
      "Debt Consolidation Loan      1691\n",
      "Personal Loan                 643\n",
      "Consolidation                 508\n",
      "debt consolidation            488\n",
      "Credit Card Consolidation     349\n",
      "Home Improvement              347\n",
      "Debt consolidation            324\n",
      "Small Business Loan           316\n",
      "Credit Card Loan              307\n",
      "Personal                      296\n",
      "Consolidation Loan            255\n",
      "Home Improvement Loan         239\n",
      "personal loan                 224\n",
      "personal                      207\n",
      "\n",
      "\n"
     ]
    }
   ],
   "source": [
    "cols = ['home_ownership', 'verification_status', 'emp_length', 'term', 'addr_state', 'purpose', 'title']\n",
    "for c in cols:\n",
    "    print('--- ' + c + '-----\\n' + loans[c].value_counts().head(15).to_string() +'\\n\\n')"
   ]
  },
  {
   "cell_type": "markdown",
   "id": "15070ac6",
   "metadata": {},
   "source": [
    "The ```home_ownership```, ```verification_status```, ```emp_length```, and ```term``` columns all contain multiple discrete values.  \n",
    "\n",
    "```title``` is highly similar to ```purpose```, which has less discrete values, so we will drop it. We'll also drop ```addr_state```, as  creating 50 dummy columns would make our dataframe much larger and slow down how quickly the code runs."
   ]
  },
  {
   "cell_type": "code",
   "execution_count": 224,
   "id": "04117a76",
   "metadata": {},
   "outputs": [],
   "source": [
    "loans=loans.drop(['title', 'addr_state'], axis=1)"
   ]
  },
  {
   "cell_type": "markdown",
   "id": "3c508563",
   "metadata": {},
   "source": [
    "We should clean the emp_length column and treat it as a numerical one since the values have ordering (2 years of employment is less than 8 years)."
   ]
  },
  {
   "cell_type": "code",
   "execution_count": 225,
   "id": "cef48553",
   "metadata": {},
   "outputs": [],
   "source": [
    "mapping_dict = {\n",
    "    \"emp_length\": {\n",
    "        \"10+ years\": 10,\n",
    "        \"9 years\": 9,\n",
    "        \"8 years\": 8,\n",
    "        \"7 years\": 7,\n",
    "        \"6 years\": 6,\n",
    "        \"5 years\": 5,\n",
    "        \"4 years\": 4,\n",
    "        \"3 years\": 3,\n",
    "        \"2 years\": 2,\n",
    "        \"1 year\": 1,\n",
    "        \"< 1 year\": 0,\n",
    "        \"n/a\": 0\n",
    "    }\n",
    "}\n",
    "\n",
    "loans = loans.replace(mapping_dict)"
   ]
  },
  {
   "cell_type": "markdown",
   "id": "31e8ae67",
   "metadata": {},
   "source": [
    "```revol_util``` (revolving line utilization rate or the amount of credit the borrower is using relative to all available credit) and ```int_rate``` are numeric and must be converted."
   ]
  },
  {
   "cell_type": "code",
   "execution_count": 226,
   "id": "a094b39d",
   "metadata": {},
   "outputs": [],
   "source": [
    "for c in ['revol_util', 'int_rate']: \n",
    "    loans[c] = loans[c].str.rstrip(\"%\").astype(\"float\")"
   ]
  },
  {
   "cell_type": "markdown",
   "id": "5cde7198",
   "metadata": {},
   "source": [
    "Lastly, some of the columns contain date values that would require a good amount of feature engineering for them to be potentially useful:\n",
    "1. ```earliest_cr_line```: The month the borrower's earliest reported credit line was opened,\n",
    "2. ```last_credit_pull_d```: The most recent month Lending Club pulled credit for this loan."
   ]
  },
  {
   "cell_type": "code",
   "execution_count": 227,
   "id": "22e33a79",
   "metadata": {},
   "outputs": [],
   "source": [
    "loans = loans.drop([\"last_credit_pull_d\", \"earliest_cr_line\"], axis=1)"
   ]
  },
  {
   "cell_type": "markdown",
   "id": "24fa67f0",
   "metadata": {},
   "source": [
    "We'll now create dummy variables for the ```home_ownership```, ```verification_status```, ```purpose```, and ```term``` columns"
   ]
  },
  {
   "cell_type": "code",
   "execution_count": 228,
   "id": "f3ea2324",
   "metadata": {},
   "outputs": [],
   "source": [
    "cat_columns = [\"home_ownership\", \"verification_status\", \"purpose\", \"term\"]\n",
    "dummy_df = pd.get_dummies(loans[cat_columns])\n",
    "loans = pd.concat([loans, dummy_df], axis=1)\n",
    "loans = loans.drop(cat_columns, axis=1)"
   ]
  },
  {
   "cell_type": "markdown",
   "id": "0ca2ac1f",
   "metadata": {},
   "source": [
    "Now that our data has been cleaned, it's now time to start building our model.\n",
    "\n",
    "\n",
    "## Part 2: Logistic regression model\n",
    "Our goal is to generate features from data, which we can feed into a machine learning algorithm. The algorithm will make predictions about whether or not a loan will be paid off on time, which is contained in the ```loan_status``` column of the clean dataset.\n",
    "\n",
    "First, let's build a logistic regression model that predicts the target variable, ```loan_status```. We will use a 10-fold cross validation, where each prediction is obtained when that observation is in the test, not train, set. "
   ]
  },
  {
   "cell_type": "code",
   "execution_count": 229,
   "id": "f62959f3",
   "metadata": {},
   "outputs": [],
   "source": [
    "from sklearn.linear_model import LogisticRegression\n",
    "from sklearn.model_selection import cross_val_predict\n",
    "lr = LogisticRegression(max_iter=1000)\n",
    "train_cols = loans.columns.drop(\"loan_status\")\n",
    "features = loans[train_cols]\n",
    "target = loans[\"loan_status\"]\n",
    "#predictions are when each data is in test set\n",
    "predictions=cross_val_predict(lr, features, target, cv=10)"
   ]
  },
  {
   "cell_type": "markdown",
   "id": "bd6ee6dc",
   "metadata": {},
   "source": [
    "Now let's build a function to examine the accuracy of our model. "
   ]
  },
  {
   "cell_type": "code",
   "execution_count": 230,
   "id": "9ee908b6",
   "metadata": {},
   "outputs": [
    {
     "data": {
      "text/plain": [
       "{'tpr': 0.9993372895141127, 'fpr': 0.9988919667590028}"
      ]
     },
     "execution_count": 230,
     "metadata": {},
     "output_type": "execute_result"
    }
   ],
   "source": [
    "def model_accuracy(predictions, actuals):\n",
    "    # False positives.\n",
    "    fp_filter = (predictions == 1) & (actuals == 0)\n",
    "    fp = len(predictions[fp_filter])\n",
    "\n",
    "    # True positives.\n",
    "    tp_filter = (predictions == 1) & (actuals == 1)\n",
    "    tp = len(predictions[tp_filter])\n",
    "\n",
    "    # False negatives.\n",
    "    fn_filter = (predictions == 0) & (actuals == 1)\n",
    "    fn = len(predictions[fn_filter])\n",
    "\n",
    "    # True negatives\n",
    "    tn_filter = (predictions == 0) & (actuals == 0)\n",
    "    tn = len(predictions[tn_filter])\n",
    "    # Rates\n",
    "    tpr = tp  / (tp + fn)\n",
    "    fpr = fp  / (fp + tn)\n",
    "    \n",
    "    return {'tpr': tpr, 'fpr': fpr}\n",
    "\n",
    "model_accuracy(predictions, target)"
   ]
  },
  {
   "cell_type": "markdown",
   "id": "65dc184a",
   "metadata": {},
   "source": [
    "**Yikes!** The false positive rate is almost 100%. This is what we'd expect from a model that predicts all 1's, and is due to the imbalance in our target."
   ]
  },
  {
   "cell_type": "code",
   "execution_count": 231,
   "id": "854006ec",
   "metadata": {},
   "outputs": [
    {
     "data": {
      "text/plain": [
       "1    33197\n",
       "0     5415\n",
       "Name: loan_status, dtype: int64"
      ]
     },
     "execution_count": 231,
     "metadata": {},
     "output_type": "execute_result"
    }
   ],
   "source": [
    "target.value_counts()"
   ]
  },
  {
   "cell_type": "markdown",
   "id": "bf0b1326",
   "metadata": {},
   "source": [
    "There are a few ways to get a classifier to correct for imbalanced classes. The two main ways are:\n",
    "1. Use over/undersampling to ensure that the classifier gets input that has a balanced number of each class. \n",
    "2. Tell the classifier to penalize misclassifications of the less prevalent class more than the other class. \n",
    "\n",
    "The second method is easier to implement using scikit-learn, so we'll do that below and compare the accuracy metrics.\n"
   ]
  },
  {
   "cell_type": "code",
   "execution_count": 232,
   "id": "f9a95558",
   "metadata": {},
   "outputs": [
    {
     "data": {
      "text/plain": [
       "{'tpr': 0.5153176491851673, 'fpr': 0.33240997229916897}"
      ]
     },
     "execution_count": 232,
     "metadata": {},
     "output_type": "execute_result"
    }
   ],
   "source": [
    "lr = LogisticRegression(class_weight=\"balanced\", max_iter=1000)\n",
    "predictions=cross_val_predict(lr, features, target, cv=10)\n",
    "\n",
    "model_accuracy(predictions, target)"
   ]
  },
  {
   "cell_type": "markdown",
   "id": "2d5edfeb",
   "metadata": {},
   "source": [
    "A 33% FPR is better, but still not good enough. Let's iterate through different manual penalty settings to see if we can do better."
   ]
  },
  {
   "cell_type": "code",
   "execution_count": 236,
   "id": "54211b5e",
   "metadata": {},
   "outputs": [
    {
     "data": {
      "image/png": "[encoded data removed]",
      "text/plain": [
       "<Figure size 500x300 with 1 Axes>"
      ]
     },
     "metadata": {},
     "output_type": "display_data"
    },
    {
     "name": "stdout",
     "output_type": "stream",
     "text": [
      "tpr    0.198964\n",
      "fpr     0.08458\n",
      "Name: 10, dtype: object\n"
     ]
    }
   ],
   "source": [
    "df=pd.DataFrame(index=range(1,20),columns=['tpr','fpr'])\n",
    "for n in range(1,20):\n",
    "    lr = LogisticRegression(class_weight={0: n, 1: 1}, max_iter=1000)\n",
    "    predictions=cross_val_predict(lr, features, target, cv=10)\n",
    "    accuracy_metrics = model_accuracy(predictions, target)\n",
    "    df.loc[n,'tpr']=accuracy_metrics['tpr']\n",
    "    df.loc[n,'fpr']=accuracy_metrics['fpr']  \n",
    "    \n",
    "# Plot results\n",
    "fig, ax1 = plt.subplots()\n",
    "ax1.plot(df.index, df['tpr'], 'b-', label='TPR')\n",
    "ax1.plot(df.index, df['fpr'], 'r-', label='FPR')\n",
    "ax1.set_xlabel('Penalty paramater')\n",
    "ax1.set_ylabel('T/FPR')\n",
    "ax1.legend(loc='upper center')\n",
    "plt.title('Default weight paramater v T/FPR')\n",
    "plt.show()\n",
    "\n",
    "print(df.loc[10])"
   ]
  },
  {
   "cell_type": "markdown",
   "id": "e4241f11",
   "metadata": {},
   "source": [
    "Based on the above chart, setting the class weight to 10 for target==0 seems best, as the TPR is 19.9%, but the FPR is 8.5%. Still, that's quite a price to pay for reducing the FPR. While we have fewer false positives, we're also missing opportunities to fund more loans and potentially make more money. Given that we're approaching this as a conservative investor, this strategy makes sense, but it's worth keeping in mind the tradeoffs.\n",
    "\n",
    "Let's see if a different, more complex algorithm -- the random forest -- can give us better results..."
   ]
  },
  {
   "cell_type": "code",
   "execution_count": 235,
   "id": "eef0ab81",
   "metadata": {},
   "outputs": [
    {
     "data": {
      "text/plain": [
       "{'tpr': 0.9992770431063048, 'fpr': 0.9964912280701754}"
      ]
     },
     "execution_count": 235,
     "metadata": {},
     "output_type": "execute_result"
    }
   ],
   "source": [
    "from sklearn.ensemble import RandomForestClassifier\n",
    "rf = RandomForestClassifier(class_weight=\"balanced\", random_state=1)\n",
    "predictions = cross_val_predict(rf, features, target, cv=10)\n",
    "model_accuracy(predictions, target)"
   ]
  },
  {
   "cell_type": "markdown",
   "id": "f60182ac",
   "metadata": {},
   "source": [
    "Look's like much the same. All told, our best bet is a logistic regression with a 10x1 default weight paramater. This results in a TPR = 19.9% and an FPR = 8.5%. To earn money, an investor must set the interest rate high enough to offset defaults on an expected 8.4% of loans extended."
   ]
  },
  {
   "cell_type": "code",
   "execution_count": null,
   "id": "d80faaf6",
   "metadata": {},
   "outputs": [],
   "source": []
  }
 ],
 "metadata": {
  "kernelspec": {
   "display_name": "Python 3 (ipykernel)",
   "language": "python",
   "name": "python3"
  },
  "language_info": {
   "codemirror_mode": {
    "name": "ipython",
    "version": 3
   },
   "file_extension": ".py",
   "mimetype": "text/x-python",
   "name": "python",
   "nbconvert_exporter": "python",
   "pygments_lexer": "ipython3",
   "version": "3.10.9"
  }
 },
 "nbformat": 4,
 "nbformat_minor": 5
}
